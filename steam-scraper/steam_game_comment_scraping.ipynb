{
 "cells": [
  {
   "cell_type": "code",
   "execution_count": 29,
   "metadata": {},
   "outputs": [],
   "source": [
    "import requests\n",
    "import pandas as pd\n",
    "from bs4 import BeautifulSoup\n",
    "import json\n",
    "\n",
    "def get_reviews(appid, params={'json':1}):\n",
    "    url = 'https://store.steampowered.com/appreviews/'\n",
    "    response = requests.get(url=url+appid, params=params, headers={'User-Agent': 'Mozilla/5.0'})\n",
    "    return response.json()\n"
   ]
  },
  {
   "cell_type": "code",
   "execution_count": 61,
   "metadata": {},
   "outputs": [],
   "source": [
    "def get_n_reviews(appid, n=100):\n",
    "    reviews = []\n",
    "    cursor = '*'\n",
    "    params = {\n",
    "            'json' : 1,\n",
    "            'filter' : 'all',\n",
    "            'language' : 'english',\n",
    "            'day_range' : 9223372036854775807,\n",
    "            'review_type' : 'all',\n",
    "            'purchase_type' : 'all'\n",
    "            }\n",
    "\n",
    "    while n > 0:\n",
    "        params['cursor'] = cursor.encode()\n",
    "        params['num_per_page'] = min(100, n)\n",
    "        n -= 100\n",
    "\n",
    "        response = get_reviews(appid, params)\n",
    "        cursor = response['cursor']\n",
    "        review = response['reviews']\n",
    "        review[0]['appid'] = int(appid)\n",
    "        \n",
    "        reviews += review\n",
    "\n",
    "        if len(response['reviews']) < 100: break\n",
    "\n",
    "    return reviews\n"
   ]
  },
  {
   "cell_type": "code",
   "execution_count": 62,
   "metadata": {},
   "outputs": [],
   "source": [
    "def get_n_appids(n=100, filter_by='topsellers'):\n",
    "    appids = []\n",
    "    url = f'https://store.steampowered.com/search/?category1=998&filter={filter_by}&page='\n",
    "    page = 0\n",
    "\n",
    "    while page*25 < n:\n",
    "        page += 1\n",
    "        response = requests.get(url=url+str(page), headers={'User-Agent': 'Mozilla/5.0'})\n",
    "        soup = BeautifulSoup(response.text, 'html.parser')\n",
    "        for row in soup.find_all(class_='search_result_row'):\n",
    "            appids.append(row['data-ds-appid'])\n",
    "\n",
    "    return appids[:n]\n"
   ]
  },
  {
   "cell_type": "code",
   "execution_count": 63,
   "metadata": {},
   "outputs": [],
   "source": [
    "game_ids = get_n_appids(5000)\n",
    "\n",
    "reviews = []\n",
    "for appid in game_ids:\n",
    "    reviews += get_n_reviews(appid, 1000)"
   ]
  },
  {
   "cell_type": "code",
   "execution_count": 45,
   "metadata": {},
   "outputs": [],
   "source": [
    "df = pd.DataFrame(reviews)\n",
    "df.to_csv(\"./data/steam_comment_data.csv\", index = False)"
   ]
  },
  {
   "cell_type": "code",
   "execution_count": 35,
   "metadata": {},
   "outputs": [],
   "source": [
    "with open(\"./data/steam_comment_data.json\", \"w\") as j:\n",
    "    json.dump(reviews, j)"
   ]
  }
 ],
 "metadata": {
  "kernelspec": {
   "display_name": "Python 3.9.12 64-bit",
   "language": "python",
   "name": "python3"
  },
  "language_info": {
   "codemirror_mode": {
    "name": "ipython",
    "version": 3
   },
   "file_extension": ".py",
   "mimetype": "text/x-python",
   "name": "python",
   "nbconvert_exporter": "python",
   "pygments_lexer": "ipython3",
   "version": "3.9.12"
  },
  "orig_nbformat": 4,
  "vscode": {
   "interpreter": {
    "hash": "8175b539d6487f01e9c3def2550f8b7f598099d89804d2727cf52d30e51749b5"
   }
  }
 },
 "nbformat": 4,
 "nbformat_minor": 2
}
